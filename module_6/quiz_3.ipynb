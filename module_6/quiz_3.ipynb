{
 "cells": [
  {
   "cell_type": "code",
   "execution_count": 1,
   "id": "2a905199-8500-4ca7-96f7-f7ccc016e599",
   "metadata": {},
   "outputs": [],
   "source": [
    "import numpy as np"
   ]
  },
  {
   "cell_type": "code",
   "execution_count": 31,
   "id": "3e7915c9-f250-4a2e-b9da-5677cce43bcb",
   "metadata": {},
   "outputs": [
    {
     "name": "stdout",
     "output_type": "stream",
     "text": [
      "566397.0\n"
     ]
    }
   ],
   "source": [
    "bike_count = [70000, 156000, 800000, 605005, 1200980]\n",
    "bike_mean = np.mean(bike_count)\n",
    "print(bike_mean)"
   ]
  },
  {
   "cell_type": "code",
   "execution_count": 32,
   "id": "f8b68bf1-60a8-47af-bd10-299bb52d75ea",
   "metadata": {},
   "outputs": [
    {
     "name": "stdout",
     "output_type": "stream",
     "text": [
      "163018.8\n"
     ]
    }
   ],
   "source": [
    "scooter_count = [30000, 90100, 210000, 155005, 329989]\n",
    "scooter_mean = np.mean(scooter_count)\n",
    "print(scooter_mean)"
   ]
  },
  {
   "cell_type": "code",
   "execution_count": 33,
   "id": "b960508a-c9e9-4f55-85f1-b6d433d1978b",
   "metadata": {},
   "outputs": [
    {
     "data": {
      "text/plain": [
       "np.float64(233603.0)"
      ]
     },
     "execution_count": 33,
     "metadata": {},
     "output_type": "execute_result"
    }
   ],
   "source": [
    "800000-bike_mean"
   ]
  },
  {
   "cell_type": "code",
   "execution_count": 40,
   "id": "5037f897-21cd-4b1e-8b4d-187c877835a4",
   "metadata": {},
   "outputs": [
    {
     "data": {
      "text/plain": [
       "233603"
      ]
     },
     "execution_count": 40,
     "metadata": {},
     "output_type": "execute_result"
    }
   ],
   "source": [
    "800000-566397"
   ]
  },
  {
   "cell_type": "code",
   "execution_count": 48,
   "id": "993b375a-f3e7-4cf8-abc6-136187d2b3ad",
   "metadata": {},
   "outputs": [
    {
     "data": {
      "text/plain": [
       "array([-496397., -410397.,  233603.,   38608.,  634583.])"
      ]
     },
     "execution_count": 48,
     "metadata": {},
     "output_type": "execute_result"
    }
   ],
   "source": [
    "bike_adjusted = bike_count - bike_mean\n",
    "bike_adjusted"
   ]
  },
  {
   "cell_type": "code",
   "execution_count": 44,
   "id": "de30cd4c-4898-4614-ba84-90704f81f8f3",
   "metadata": {},
   "outputs": [
    {
     "data": {
      "text/plain": [
       "array([-133018.8,  -72918.8,   46981.2,   -8013.8,  166970.2])"
      ]
     },
     "execution_count": 44,
     "metadata": {},
     "output_type": "execute_result"
    }
   ],
   "source": [
    "scooter_adjusted = scooter_count - scooter_mean\n",
    "scooter_adjusted"
   ]
  },
  {
   "cell_type": "code",
   "execution_count": 50,
   "id": "4a8760de-c0cb-48de-868e-79e2f263e7c4",
   "metadata": {},
   "outputs": [
    {
     "data": {
      "text/plain": [
       "np.float64(42515558585.4)"
      ]
     },
     "execution_count": 50,
     "metadata": {},
     "output_type": "execute_result"
    }
   ],
   "source": [
    "np.sum(bike_adjusted * scooter_adjusted)/len(scooter_adjusted)"
   ]
  },
  {
   "cell_type": "code",
   "execution_count": 46,
   "id": "a995a812-aff8-45fb-9dae-1c401abc8bc0",
   "metadata": {},
   "outputs": [
    {
     "data": {
      "text/plain": [
       "np.float64(7844460360.240003)"
      ]
     },
     "execution_count": 46,
     "metadata": {},
     "output_type": "execute_result"
    }
   ],
   "source": [
    "scooter_adjusted[2]*scooter_adjusted[4]"
   ]
  },
  {
   "cell_type": "code",
   "execution_count": 52,
   "id": "98f062f5-6a62-4e8e-af99-35ba3a57f5fc",
   "metadata": {},
   "outputs": [
    {
     "data": {
      "text/plain": [
       "np.float64(-2.3283064365386963e-10)"
      ]
     },
     "execution_count": 52,
     "metadata": {},
     "output_type": "execute_result"
    }
   ],
   "source": [
    "np.sum(bike_adjusted + scooter_adjusted)"
   ]
  },
  {
   "cell_type": "code",
   "execution_count": 42,
   "id": "93de12b1-8310-4e64-b3ff-dcdb2b857183",
   "metadata": {},
   "outputs": [
    {
     "data": {
      "text/plain": [
       "7844460360.240003"
      ]
     },
     "execution_count": 42,
     "metadata": {},
     "output_type": "execute_result"
    }
   ],
   "source": [
    "(210000-163018.8)*(329989-163018.8)"
   ]
  },
  {
   "cell_type": "code",
   "execution_count": 84,
   "id": "d0398f25-235c-41a7-880f-3d82b160c30e",
   "metadata": {},
   "outputs": [
    {
     "data": {
      "text/plain": [
       "np.float64(-2.3283064365386963e-10)"
      ]
     },
     "execution_count": 84,
     "metadata": {},
     "output_type": "execute_result"
    }
   ],
   "source": [
    "import numpy as np\n",
    "\n",
    "bike_count = [70000, 156000, 800000, 605005, 1200980]\n",
    "bike_mean = np.mean(bike_count)\n",
    "bike_adjusted = bike_count - bike_mean\n",
    "\n",
    "scooter_count = [30000, 90100, 210000, 155005, 329989]\n",
    "scooter_mean = np.mean(scooter_count)\n",
    "scooter_adjusted = scooter_count - scooter_mean\n",
    "\n",
    "np.sum(bike_adjusted + scooter_adjusted)"
   ]
  },
  {
   "cell_type": "code",
   "execution_count": 76,
   "id": "3d40f432-c8c3-43c5-af3e-62a63de33d2a",
   "metadata": {},
   "outputs": [
    {
     "data": {
      "text/plain": [
       "-2.3283064365386963e-10"
      ]
     },
     "execution_count": 76,
     "metadata": {},
     "output_type": "execute_result"
    }
   ],
   "source": [
    "u = 566397\n",
    "v = 163018.8\n",
    "((70000-u)+(30000-v))+((156000-u)+(90100-v))+((800000-u)+(210000-v))+((605005-u)+(155005-v))+((1200980-u)+(329989-v))"
   ]
  },
  {
   "cell_type": "code",
   "execution_count": 78,
   "id": "760d441b-b3db-43b3-8d2d-f46aa4048d10",
   "metadata": {},
   "outputs": [
    {
     "data": {
      "text/plain": [
       "42515558585.4"
      ]
     },
     "execution_count": 78,
     "metadata": {},
     "output_type": "execute_result"
    }
   ],
   "source": [
    "sum = ((70000-u)*(30000-v))+((156000-u)*(90100-v))+((800000-u)*(210000-v))+((605005-u)*(155005-v))+((1200980-u)*(329989-v))\n",
    "sum / 5"
   ]
  },
  {
   "cell_type": "code",
   "execution_count": 80,
   "id": "dc27e817-62c7-4dc5-a4ae-1b094519ecbf",
   "metadata": {},
   "outputs": [
    {
     "data": {
      "text/plain": [
       "7844460360.240003"
      ]
     },
     "execution_count": 80,
     "metadata": {},
     "output_type": "execute_result"
    }
   ],
   "source": [
    "v = 163018.8\n",
    "(210000-v)*(329989-v)"
   ]
  },
  {
   "cell_type": "code",
   "execution_count": 5,
   "id": "2b996222-76d1-4e67-8fc3-60a6ec4f240c",
   "metadata": {},
   "outputs": [
    {
     "data": {
      "text/plain": [
       "0.72"
      ]
     },
     "execution_count": 5,
     "metadata": {},
     "output_type": "execute_result"
    }
   ],
   "source": [
    "tp = 0.72\n",
    "fn = 0.28\n",
    "sensitivity = tp / (tp + fn)\n",
    "sensitivity"
   ]
  },
  {
   "cell_type": "code",
   "execution_count": 6,
   "id": "e92dd2b5-b1b6-4197-bc67-cd0a8742e085",
   "metadata": {},
   "outputs": [
    {
     "data": {
      "text/plain": [
       "95.75"
      ]
     },
     "execution_count": 6,
     "metadata": {},
     "output_type": "execute_result"
    }
   ],
   "source": [
    "72.9+22.85"
   ]
  }
 ],
 "metadata": {
  "kernelspec": {
   "display_name": "Python 3 (ipykernel)",
   "language": "python",
   "name": "python3"
  },
  "language_info": {
   "codemirror_mode": {
    "name": "ipython",
    "version": 3
   },
   "file_extension": ".py",
   "mimetype": "text/x-python",
   "name": "python",
   "nbconvert_exporter": "python",
   "pygments_lexer": "ipython3",
   "version": "3.11.5"
  }
 },
 "nbformat": 4,
 "nbformat_minor": 5
}
